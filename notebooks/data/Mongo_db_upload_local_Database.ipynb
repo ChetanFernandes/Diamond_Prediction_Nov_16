{
 "cells": [
  {
   "cell_type": "code",
   "execution_count": 1,
   "id": "70ff2418-2b3d-4749-b505-09c7c65d023e",
   "metadata": {},
   "outputs": [
    {
     "name": "stdout",
     "output_type": "stream",
     "text": [
      "Requirement already satisfied: pymongo in c:\\users\\lenovo\\anaconda3\\lib\\site-packages (4.8.0)Note: you may need to restart the kernel to use updated packages.\n",
      "\n",
      "Requirement already satisfied: dnspython<3.0.0,>=1.16.0 in c:\\users\\lenovo\\anaconda3\\lib\\site-packages (from pymongo) (2.6.1)\n"
     ]
    }
   ],
   "source": [
    "pip install pymongo"
   ]
  },
  {
   "cell_type": "code",
   "execution_count": 54,
   "id": "c8dfa025-8cdb-40fe-b0ee-2e606d5e09b9",
   "metadata": {},
   "outputs": [],
   "source": [
    "from pymongo import MongoClient\n",
    "import csv\n",
    "import pymongo"
   ]
  },
  {
   "cell_type": "code",
   "execution_count": 56,
   "id": "0990ba72-72f7-40c4-afc1-44ee0ab17a45",
   "metadata": {},
   "outputs": [
    {
     "name": "stdout",
     "output_type": "stream",
     "text": [
      "Databases currently available:\n",
      "['Phishing_Nov', 'admin', 'config', 'local']\n"
     ]
    }
   ],
   "source": [
    "uri = \"mongodb://localhost:27017/\"\n",
    "\n",
    "# Step 1: Connect to MongoDB (localhost:27017 by default)\n",
    "client = MongoClient('mongodb://localhost:27017/')\n",
    "\n",
    "# Step 2: Specify the new database\n",
    "new_db = client[\"Phishing_Nov\"]  # This will create the database when you insert data\n",
    "\n",
    "# Step 3: Create a collection (a table-like structure in MongoDB) and insert a document\n",
    "collection = new_db[\"Phishing_classifier\"]  # Specify a collection name\n",
    "\n",
    "\n",
    "# Read the CSV file and insert into MongoDB\n",
    "with open('Phishing.csv', mode='r') as file:\n",
    "    reader = csv.DictReader(file)\n",
    "    for row in reader:\n",
    "        collection.insert_one(row)\n",
    "\n",
    "\n",
    "# Step 4: Verify the database and collection\n",
    "print(\"Databases currently available:\")\n",
    "print(client.list_database_names())  # This will list all databases"
   ]
  },
  {
   "cell_type": "code",
   "execution_count": 58,
   "id": "497802f6-52e7-4e9e-ac49-fd8ba63e54dc",
   "metadata": {},
   "outputs": [
    {
     "name": "stdout",
     "output_type": "stream",
     "text": [
      "Data inserted into 'new_database' -> 'my_collection':\n",
      "{'_id': ObjectId('67388582f38bd27ccf27f6c0'), 'having_IP_Address': '-1', 'URL_Length': '1', 'Shortining_Service': '1', 'having_At_Symbol': '1', 'double_slash_redirecting': '-1', 'Prefix_Suffix': '-1', 'having_Sub_Domain': '-1', 'SSLfinal_State': '-1', 'Domain_registeration_length': '-1', 'Favicon': '1', 'port': '1', 'HTTPS_token': '-1', 'Request_URL': '1', 'URL_of_Anchor': '-1', 'Links_in_tags': '1', 'SFH': '-1', 'Submitting_to_email': '-1', 'Abnormal_URL': '-1', 'Redirect': '0', 'on_mouseover': '1', 'RightClick': '1', 'popUpWidnow': '1', 'Iframe': '1', 'age_of_domain': '-1', 'DNSRecord': '-1', 'web_traffic': '-1', 'Page_Rank': '-1', 'Google_Index': '1', 'Links_pointing_to_page': '1', 'Statistical_report': '-1', 'Result': '-1'}\n"
     ]
    }
   ],
   "source": [
    "# Step 5: Optionally, print the inserted data\n",
    "print(\"Data inserted into 'new_database' -> 'my_collection':\")\n",
    "print(collection.find_one())  # Print the first document in the collection"
   ]
  },
  {
   "cell_type": "markdown",
   "id": "ef28be98-c1c6-442e-8c83-2a34c5a47672",
   "metadata": {},
   "source": [
    "# Delete the database"
   ]
  },
  {
   "cell_type": "code",
   "execution_count": 51,
   "id": "929df61b-7743-4add-aab3-1eee6185a192",
   "metadata": {},
   "outputs": [
    {
     "name": "stdout",
     "output_type": "stream",
     "text": [
      "Database 'Phishing_Nov' has been deleted.\n"
     ]
    }
   ],
   "source": [
    "from pymongo import MongoClient\n",
    "\n",
    "# Step 1: Connect to the local MongoDB instance (default host is 'localhost' and port is 27017)\n",
    "client = MongoClient('mongodb://localhost:27017/')\n",
    "\n",
    "# Step 2: Specify the database you want to delete\n",
    "database_name = \"Phishing_Nov\"  # Change this to the name of the database you want to delete\n",
    "\n",
    "# Step 3: Drop the database\n",
    "client.drop_database(database_name)\n",
    "\n",
    "print(f\"Database '{database_name}' has been deleted.\")"
   ]
  },
  {
   "cell_type": "code",
   "execution_count": null,
   "id": "c6f31784-a48b-47ac-82a4-c34d0788e9c0",
   "metadata": {},
   "outputs": [],
   "source": []
  }
 ],
 "metadata": {
  "kernelspec": {
   "display_name": "Python 3 (ipykernel)",
   "language": "python",
   "name": "python3"
  },
  "language_info": {
   "codemirror_mode": {
    "name": "ipython",
    "version": 3
   },
   "file_extension": ".py",
   "mimetype": "text/x-python",
   "name": "python",
   "nbconvert_exporter": "python",
   "pygments_lexer": "ipython3",
   "version": "3.12.4"
  }
 },
 "nbformat": 4,
 "nbformat_minor": 5
}
